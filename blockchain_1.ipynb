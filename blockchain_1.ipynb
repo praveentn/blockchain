{
 "cells": [
  {
   "cell_type": "markdown",
   "metadata": {},
   "source": [
    "# blockchain with python"
   ]
  },
  {
   "cell_type": "code",
   "execution_count": 1,
   "metadata": {},
   "outputs": [],
   "source": [
    "# load libraries\n",
    "import hashlib, json"
   ]
  },
  {
   "cell_type": "markdown",
   "metadata": {},
   "source": [
    "#### hashing"
   ]
  },
  {
   "cell_type": "code",
   "execution_count": 2,
   "metadata": {},
   "outputs": [
    {
     "data": {
      "text/plain": [
       "'b94d27b9934d3e08a52e52d7da7dabfac484efe37a5380ee9088f7ace2efcde9'"
      ]
     },
     "execution_count": 2,
     "metadata": {},
     "output_type": "execute_result"
    }
   ],
   "source": [
    "# hashing (SHA-256) in Python\n",
    "hashlib.sha256(b\"hello world\").hexdigest()"
   ]
  },
  {
   "cell_type": "code",
   "execution_count": 3,
   "metadata": {},
   "outputs": [
    {
     "data": {
      "text/plain": [
       "'309ecc489c12d6eb4cc40f50c902f2b4d0ed77ee511a7c7a9bcd3ca86d4cd86f989dd35bc5ff499670da34255b45b0cfd830e81f605dcf7dc5542e93ae9cd76f'"
      ]
     },
     "execution_count": 3,
     "metadata": {},
     "output_type": "execute_result"
    }
   ],
   "source": [
    "# hashing (SHA-512) in Python\n",
    "hashlib.sha512(b\"hello world\").hexdigest()"
   ]
  },
  {
   "cell_type": "markdown",
   "metadata": {},
   "source": [
    "#### first sample block"
   ]
  },
  {
   "cell_type": "markdown",
   "metadata": {},
   "source": [
    "Blockchain is like a linked list.  <br/>\n",
    "\n",
    "The first block in Bitcoin is called genesis block. <br/>"
   ]
  },
  {
   "cell_type": "code",
   "execution_count": 4,
   "metadata": {},
   "outputs": [
    {
     "data": {
      "text/plain": [
       "{'prev_hash': None, 'transactions': [1, 2, 3, 4]}"
      ]
     },
     "execution_count": 4,
     "metadata": {},
     "output_type": "execute_result"
    }
   ],
   "source": [
    "# creating a block...\n",
    "block_genesis = {\n",
    " 'prev_hash': None,\n",
    " 'transactions': [1, 2, 3, 4]\n",
    "}\n",
    "\n",
    "block_genesis"
   ]
  },
  {
   "cell_type": "markdown",
   "metadata": {},
   "source": [
    "In a block, we have transactions and hash. \n",
    "\n",
    "- transaction represents as the word suggests, a transaction, \n",
    "- for example, when person A pays x amount to person B,\n",
    "- it is considered to be a transaction\n"
   ]
  },
  {
   "cell_type": "markdown",
   "metadata": {},
   "source": [
    "#### serializing blocks"
   ]
  },
  {
   "cell_type": "code",
   "execution_count": 5,
   "metadata": {},
   "outputs": [
    {
     "data": {
      "text/plain": [
       "b'{\"prev_hash\": null, \"transactions\": [1, 2, 3, 4]}'"
      ]
     },
     "execution_count": 5,
     "metadata": {},
     "output_type": "execute_result"
    }
   ],
   "source": [
    "# serialize\n",
    "block_genesis_serialized = json.dumps(block_genesis, sort_keys=True).encode('utf-8')\n",
    "block_genesis_serialized"
   ]
  },
  {
   "cell_type": "code",
   "execution_count": 6,
   "metadata": {},
   "outputs": [
    {
     "data": {
      "text/plain": [
       "'93a1b48ddf1215572173e9732615321bb0cba73262cfef32be86721a63b28918'"
      ]
     },
     "execution_count": 6,
     "metadata": {},
     "output_type": "execute_result"
    }
   ],
   "source": [
    "# hashed block\n",
    "block_genesis_hash = hashlib.sha256(block_genesis_serialized).hexdigest()\n",
    "block_genesis_hash"
   ]
  },
  {
   "cell_type": "markdown",
   "metadata": {},
   "source": [
    "#### second and thrid sample blocks"
   ]
  },
  {
   "cell_type": "code",
   "execution_count": 7,
   "metadata": {},
   "outputs": [
    {
     "data": {
      "text/plain": [
       "{'prev_hash': '93a1b48ddf1215572173e9732615321bb0cba73262cfef32be86721a63b28918',\n",
       " 'transactions': [3, 4, 5, 6, 7, 8]}"
      ]
     },
     "execution_count": 7,
     "metadata": {},
     "output_type": "execute_result"
    }
   ],
   "source": [
    "# block 2 & 3: we'll assign the 'block_genesis_hash' hash here\n",
    "block_2 = {\n",
    " 'prev_hash': block_genesis_hash,\n",
    " 'transactions': [3,4,5,6,7,8]\n",
    "}\n",
    "\n",
    "block_2"
   ]
  },
  {
   "cell_type": "markdown",
   "metadata": {},
   "source": [
    "#### serialize 2nd block"
   ]
  },
  {
   "cell_type": "code",
   "execution_count": 8,
   "metadata": {},
   "outputs": [
    {
     "data": {
      "text/plain": [
       "b'{\"prev_hash\": \"93a1b48ddf1215572173e9732615321bb0cba73262cfef32be86721a63b28918\", \"transactions\": [3, 4, 5, 6, 7, 8]}'"
      ]
     },
     "execution_count": 8,
     "metadata": {},
     "output_type": "execute_result"
    }
   ],
   "source": [
    "# serialize\n",
    "block_2_serialized = json.dumps(block_2, sort_keys=True).encode('utf-8')\n",
    "block_2_serialized"
   ]
  },
  {
   "cell_type": "code",
   "execution_count": 9,
   "metadata": {},
   "outputs": [
    {
     "data": {
      "text/plain": [
       "'d3871ac5c699b3d81fc28f8a188a481863aeeeb961051a0f6081c54e3525db4f'"
      ]
     },
     "execution_count": 9,
     "metadata": {},
     "output_type": "execute_result"
    }
   ],
   "source": [
    "# hash block 2\n",
    "block_2_hash = hashlib.sha256(block_2_serialized).hexdigest()\n",
    "block_2_hash"
   ]
  },
  {
   "cell_type": "code",
   "execution_count": 10,
   "metadata": {},
   "outputs": [
    {
     "data": {
      "text/plain": [
       "{'prev_hash': 'd3871ac5c699b3d81fc28f8a188a481863aeeeb961051a0f6081c54e3525db4f',\n",
       " 'transactions': [7, 8, 9, 10, 11]}"
      ]
     },
     "execution_count": 10,
     "metadata": {},
     "output_type": "execute_result"
    }
   ],
   "source": [
    "# block 3\n",
    "block_3 = {\n",
    " 'prev_hash': block_2_hash,\n",
    " 'transactions': [7,8,9,10,11]\n",
    "}\n",
    "\n",
    "block_3"
   ]
  },
  {
   "cell_type": "code",
   "execution_count": 11,
   "metadata": {},
   "outputs": [
    {
     "data": {
      "text/plain": [
       "(b'{\"prev_hash\": \"d3871ac5c699b3d81fc28f8a188a481863aeeeb961051a0f6081c54e3525db4f\", \"transactions\": [7, 8, 9, 10, 11]}',\n",
       " '93922ccd9595e2c36bc9266d91090bb33dc4ca35c5cce7916dd2c9e9ef0128e5')"
      ]
     },
     "execution_count": 11,
     "metadata": {},
     "output_type": "execute_result"
    }
   ],
   "source": [
    "# serialize and hash block 3\n",
    "block_3_serialized = json.dumps(block_3, sort_keys=True).encode('utf-8')\n",
    "block_3_hash = hashlib.sha256(block_3_serialized).hexdigest()\n",
    "\n",
    "block_3_serialized, block_3_hash"
   ]
  },
  {
   "cell_type": "markdown",
   "metadata": {},
   "source": [
    "### Hash Blocks"
   ]
  },
  {
   "cell_type": "code",
   "execution_count": 12,
   "metadata": {},
   "outputs": [],
   "source": [
    "def hash_blocks(blocks):\n",
    "    '''hash blocks'''\n",
    "    prev_hash = None\n",
    "    for block in blocks:\n",
    "        block['prev_hash'] = prev_hash\n",
    "        block_serialized = json.dumps(block, sort_keys=True).encode('utf-8')\n",
    "        block_hash = hashlib.sha256(block_serialized).hexdigest()\n",
    "        prev_hash = block_hash\n",
    "    return prev_hash"
   ]
  },
  {
   "cell_type": "code",
   "execution_count": 13,
   "metadata": {},
   "outputs": [
    {
     "name": "stdout",
     "output_type": "stream",
     "text": [
      "Original hash\n",
      "93922ccd9595e2c36bc9266d91090bb33dc4ca35c5cce7916dd2c9e9ef0128e5\n"
     ]
    }
   ],
   "source": [
    "print('Original hash')\n",
    "print(hash_blocks([block_genesis, block_2, block_3]))\n"
   ]
  },
  {
   "cell_type": "code",
   "execution_count": 14,
   "metadata": {},
   "outputs": [
    {
     "data": {
      "text/plain": [
       "'93a1b48ddf1215572173e9732615321bb0cba73262cfef32be86721a63b28918'"
      ]
     },
     "execution_count": 14,
     "metadata": {},
     "output_type": "execute_result"
    }
   ],
   "source": [
    "block_genesis_hash"
   ]
  },
  {
   "cell_type": "code",
   "execution_count": 15,
   "metadata": {},
   "outputs": [],
   "source": [
    "# assert block_genesis_hash and return\n",
    "assert block_3_hash == hash_blocks([block_genesis, block_2, block_3]), \"err\""
   ]
  },
  {
   "cell_type": "markdown",
   "metadata": {},
   "source": [
    "#### assertion succeeded!!"
   ]
  },
  {
   "cell_type": "code",
   "execution_count": 16,
   "metadata": {},
   "outputs": [
    {
     "data": {
      "text/plain": [
       "[1, 2, 3, 4]"
      ]
     },
     "execution_count": 16,
     "metadata": {},
     "output_type": "execute_result"
    }
   ],
   "source": [
    "block_genesis['transactions']"
   ]
  },
  {
   "cell_type": "code",
   "execution_count": 17,
   "metadata": {},
   "outputs": [
    {
     "name": "stdout",
     "output_type": "stream",
     "text": [
      "Tampering the data\n"
     ]
    }
   ],
   "source": [
    "# if we try to set a different hash, aka tampering\n",
    "print('Tampering the data')\n",
    "block_genesis['transactions'][0] = 3\n"
   ]
  },
  {
   "cell_type": "code",
   "execution_count": 18,
   "metadata": {},
   "outputs": [
    {
     "name": "stdout",
     "output_type": "stream",
     "text": [
      "After being tampered\n",
      "9b4ed8cec5a401a5aa7a6d881f0c99d999108d5234497fcdffab617d531ac81a\n"
     ]
    }
   ],
   "source": [
    "print('After being tampered')\n",
    "print(hash_blocks([block_genesis, block_2, block_3]))"
   ]
  },
  {
   "cell_type": "code",
   "execution_count": 19,
   "metadata": {},
   "outputs": [
    {
     "ename": "AssertionError",
     "evalue": "error -> tampered",
     "output_type": "error",
     "traceback": [
      "\u001b[1;31m---------------------------------------------------------------------------\u001b[0m",
      "\u001b[1;31mAssertionError\u001b[0m                            Traceback (most recent call last)",
      "\u001b[1;32m<ipython-input-19-322d32648a85>\u001b[0m in \u001b[0;36m<module>\u001b[1;34m()\u001b[0m\n\u001b[0;32m      1\u001b[0m \u001b[1;31m# assert block_genesis_hash and return\u001b[0m\u001b[1;33m\u001b[0m\u001b[1;33m\u001b[0m\u001b[0m\n\u001b[1;32m----> 2\u001b[1;33m \u001b[1;32massert\u001b[0m \u001b[0mblock_3_hash\u001b[0m \u001b[1;33m==\u001b[0m \u001b[0mhash_blocks\u001b[0m\u001b[1;33m(\u001b[0m\u001b[1;33m[\u001b[0m\u001b[0mblock_genesis\u001b[0m\u001b[1;33m,\u001b[0m \u001b[0mblock_2\u001b[0m\u001b[1;33m,\u001b[0m \u001b[0mblock_3\u001b[0m\u001b[1;33m]\u001b[0m\u001b[1;33m)\u001b[0m\u001b[1;33m,\u001b[0m \u001b[1;34m\"error -> tampered\"\u001b[0m\u001b[1;33m\u001b[0m\u001b[0m\n\u001b[0m",
      "\u001b[1;31mAssertionError\u001b[0m: error -> tampered"
     ]
    }
   ],
   "source": [
    "# assert block_genesis_hash and return\n",
    "assert block_3_hash == hash_blocks([block_genesis, block_2, block_3]), \"error -> tampered\""
   ]
  },
  {
   "cell_type": "code",
   "execution_count": null,
   "metadata": {},
   "outputs": [],
   "source": []
  }
 ],
 "metadata": {
  "kernelspec": {
   "display_name": "Python 3",
   "language": "python",
   "name": "python3"
  },
  "language_info": {
   "codemirror_mode": {
    "name": "ipython",
    "version": 3
   },
   "file_extension": ".py",
   "mimetype": "text/x-python",
   "name": "python",
   "nbconvert_exporter": "python",
   "pygments_lexer": "ipython3",
   "version": "3.6.4"
  }
 },
 "nbformat": 4,
 "nbformat_minor": 2
}
